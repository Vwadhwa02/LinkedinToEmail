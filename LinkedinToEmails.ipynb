{
 "cells": [
  {
   "cell_type": "code",
   "execution_count": 1,
   "metadata": {},
   "outputs": [
    {
     "data": {
      "text/plain": [
       "(235, b'2.7.0 Accepted')"
      ]
     },
     "execution_count": 1,
     "metadata": {},
     "output_type": "execute_result"
    }
   ],
   "source": [
    "import smtplib\n",
    "from email.mime.multipart import MIMEMultipart\n",
    "from email.mime.text import MIMEText\n",
    "from email.mime.base import MIMEBase\n",
    "from email import encoders\n",
    "import os\n",
    "import pandas as pd\n",
    "import smtplib\n",
    "from email.mime.multipart import MIMEMultipart\n",
    "from email.mime.text import MIMEText\n",
    "from email.mime.base import MIMEBase\n",
    "from email import encoders\n",
    "import time\n",
    "# import psswrd\n",
    "import groq\n",
    "import os\n",
    "GROQ_API_KEY = os.getenv(\"GROQ_API_KEY\")\n",
    "Groq = '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'\n",
    "client = groq.Client(api_key=Groq)\n",
    "from_email = \"03117711721_iot@vips.edu\"\n",
    "password =\"ehdj jdgo awjc fcko\"\n",
    "server = smtplib.SMTP(\"smtp.gmail.com\", 587)\n",
    "server.starttls()\n",
    "server.login(from_email, password)"
   ]
  },
  {
   "cell_type": "code",
   "execution_count": 2,
   "metadata": {},
   "outputs": [],
   "source": [
    "res='''VAIBHAV WADHWA\n",
    "Male, 21\n",
    "Mobile: +91-93111-14563 | Email: wadhwa.vaibhav11@gmail.com\n",
    "________________________________________\n",
    "EDUCATION\n",
    "Name of Course\tYear\tCollege/School\t%\tDept. Rank\n",
    "B.Tech (Industrial IoT)\t2021-2025\tVivekananda Institute of Professional Studies\t8.25 CGPA\t-\n",
    "AISSCE (Class XII)\t2021\tHappy Home Public School, Delhi\t86%\t-\n",
    "AISCE (Class X)\t2019\tHappy Home Public School, Delhi\t89%\t-\n",
    "________________________________________\n",
    "INTERNSHIPS\n",
    "AI Software Intern, Zummit Infolabs, Delhi (Oct 2023 – Present)\n",
    "AI-driven solutions provider specializing in generative models and NLP.\n",
    "•\tDeveloped chatbots using NLP, reducing customer query response time by 30%.\n",
    "o\tImproved operational efficiency by automating repetitive workflows.\n",
    "•\tCollaborated on refining AI architectures, achieving 95% model uptime in production.\n",
    "Data Analyst, Nikah Forever, Okhla, Delhi (Aug 2024 – Present)\n",
    "Matrimonial platform leveraging data analytics for user engagement.\n",
    "•\tBuilt Power BI dashboards tracking KPIs, reducing reporting time by 30%.\n",
    "o\tIncreased campaign ROI by 12% through A/B testing implementation.\n",
    "•\tAutomated SQL data pipelines, reducing errors by 25%.\n",
    "________________________________________\n",
    "ACADEMIC PROJECTS\n",
    "•\tBlood Cancer Detection using CV:\n",
    "Developed an AI diagnostic tool using deep learning (TensorFlow) to detect cancer from blood smear images with 98% accuracy. Role: Sole developer. Outcome: Shortlisted for 2024 AI Healthcare Innovation Award.\n",
    "•\tSpeech Emotion Recognition:\n",
    "Built an NLP model to classify 10 emotions from 150+ audio samples using MFCC features. Role: Team lead. Outcome: Integrated into a React app for real-time analysis.\n",
    "________________________________________\n",
    "ACADEMIC ACHIEVEMENTS AND AWARDS\n",
    "•\tAwarded Best Paper Award at an International Conference for research on AI-driven analysis of Shreemad Bhagwad Geeta (2024).\n",
    "•\tEarned HackerRank Gold Badges for Python, SQL, and Problem Solving (Top 1% globally).\n",
    "________________________________________\n",
    "POSITIONS OF RESPONSIBILITY\n",
    "•\tManagement Head, Srijan (Eco & Social Outreach Club):\n",
    "o\tLed 15+ donation drives and community programs impacting 2,000+ students.\n",
    "o\tManaged finances, raising ₹5L+ in donations for sustainability initiatives.\n",
    "•\tManagement Head, Kavyarang (Literary Club):\n",
    "o\tOrganized 7+ literary events and 5+ competitions, increasing club participation by 40%.\n",
    "o\tStrategized outreach campaigns to engage 500+ students across Delhi colleges.\n",
    "________________________________________\n",
    "EXTRA-CURRICULAR ACTIVITIES AND ACHIEVEMENTS\n",
    "•\tWon 3+ hackathons for AI projects, including Waste Classification App and Crop Disease Detection.\n",
    "•\tVolunteer, Sachkhand Foundation: Managed technical logistics for 10+ community welfare events.\n",
    "________________________________________\n",
    "OTHER INFORMATION\n",
    "•\tTechnical Skills: Python, SQL, TensorFlow, Power BI, AWS, Git.\n",
    "•\tInterests: AI research, community service, competitive coding.\n",
    "•\tLanguages: English (fluent), Hindi (native).\n",
    "\n",
    "'''"
   ]
  },
  {
   "cell_type": "code",
   "execution_count": 3,
   "metadata": {},
   "outputs": [],
   "source": [
    "import re\n",
    "import requests\n",
    "from bs4 import BeautifulSoup\n",
    "def extract_text_and_emails_from_linkedin(url):\n",
    "    headers = {\n",
    "        \"User-Agent\": \"Mozilla/5.0 (Windows NT 10.0; Win64; x64) AppleWebKit/537.36 (KHTML, like Gecko) Chrome/91.0.4472.124 Safari/537.36\"\n",
    "    }\n",
    "    response = requests.get(url, headers=headers)\n",
    "    if response.status_code != 200:\n",
    "        return \"Failed to fetch the post\", []\n",
    "    soup = BeautifulSoup(response.text, \"html.parser\")\n",
    "    # Extract text content (modify the selector based on LinkedIn’s structure)\n",
    "    text = ' '.join([p.text for p in soup.find_all('p')])\n",
    "    # Extract emails using regex\n",
    "    email_pattern = r'[a-zA-Z0-9+._%+-]+@[a-zA-Z0-9.-]+\\.[a-zA-Z]{2,}'\n",
    "    emails = re.findall(email_pattern, text)\n",
    "    return text, emails\n",
    "# Example usage\n",
    "# linkedin_post_url = \"https://www.linkedin.com/posts/damini-singhj_hiring-remotejob-mobileappdeveloper-activity-7297628710260633602-R4Yd?utm_source=share&utm_medium=member_desktop&rcm=ACoAADPZOz8B_VnCwxPSTSHVpVKvAaOU2G4zudA\"\n",
    "# text, emails = extract_text_and_emails_from_linkedin(linkedin_post_url)\n",
    "# print(\"Extracted Text:\\n\", text)\n",
    "# print(\"\\nExtracted Emails:\\n\", emails)\n"
   ]
  },
  {
   "cell_type": "code",
   "execution_count": 4,
   "metadata": {},
   "outputs": [],
   "source": [
    "def Body(text):\n",
    "    f=str()\n",
    "    op = client.chat.completions.create(\n",
    "        model=\"llama-3.3-70b-versatile\",\n",
    "        messages=[{\n",
    "            \"role\": \"system\",\n",
    "            \"content\": f\"{res}\"\n",
    "        },\n",
    "        {\n",
    "            \"role\": \"user\",\n",
    "            \"content\": f\"Write a mail to hr based on {text} research about there company and show them how I can be an asset to their company and talk about my accomplishments and experience.Make things Short and Sweet in max 150 words Just the body no Preamble.\"\n",
    "        }],\n",
    "        temperature=0.65,\n",
    "        max_completion_tokens=730,\n",
    "        top_p=1,\n",
    "        stream=True,\n",
    "        stop=None\n",
    "    )\n",
    "    for chunk in op:\n",
    "        f+=f'{chunk.choices[0].delta.content}'\n",
    "        \n",
    "    return f\n",
    "\n",
    "def Subject(text):\n",
    "    f=str()\n",
    "    op = client.chat.completions.create(\n",
    "        model=\"llama-3.3-70b-versatile\",\n",
    "        messages=[{\n",
    "            \"role\": \"system\",\n",
    "            \"content\": f\"{res}\"\n",
    "        },\n",
    "        {\n",
    "            \"role\": \"user\",\n",
    "            \"content\": f\"Write a mail to hr based on {text} research about there company and show them how I can be an asset to their company and talk about my accomplishments and experience. and use my given data Just the Subject no Preamble.\"\n",
    "        }],\n",
    "        temperature=1.1,\n",
    "        max_completion_tokens=730,\n",
    "        top_p=1,\n",
    "        stream=True,\n",
    "        stop=None\n",
    "    )\n",
    "    for chunk in op:\n",
    "        f+=f'{chunk.choices[0].delta.content}'\n",
    "        \n",
    "    return f"
   ]
  },
  {
   "cell_type": "code",
   "execution_count": 5,
   "metadata": {},
   "outputs": [],
   "source": [
    "\n",
    "def send_email(to,text, attachment_path=None):\n",
    "    # Email configurations\n",
    "    to_email = to\n",
    "    # Create the email\n",
    "    msg = MIMEMultipart()\n",
    "    msg[\"From\"] = from_email\n",
    "    msg[\"To\"] = to_email\n",
    "    msg[\"Subject\"] = Subject(text)\n",
    "    body=f'''Respected Ma'am/Sir,\n",
    "    {Body(text)}\n",
    "Regards,\n",
    "Vaibhav Wadhwa\n",
    "9311114563\n",
    "wadhwa.vaibhav11@gmail.com\n",
    "\n",
    "p.s.1: I am attaching my resume for your reference.\n",
    "p.s.2: this Application is generated by an AI model, please ignore any mistakes and to checkout my this project visit github.com/Vwadhwa02/LinkedinToEmail'''\n",
    "    msg.attach(MIMEText(body, \"plain\"))\n",
    "    # Attach the file\n",
    "    if attachment_path:\n",
    "        #attachment_name = os.path.basename(attachment_path)\n",
    "        attachment = open(attachment_path, \"rb\")\n",
    "        part = MIMEBase(\"application\", \"octet-stream\")\n",
    "        part.set_payload(attachment.read())\n",
    "        encoders.encode_base64(part)\n",
    "        part.add_header(\n",
    "            \"Content-Disposition\",\n",
    "            f\"attachment; filename= Vaibhav_Wadhwa.pdf\",\n",
    "        )\n",
    "        msg.attach(part)\n",
    "    # Send the email\n",
    "    server.sendmail(from_email, to_email, msg.as_string())\n",
    "\n",
    "    text = msg.as_string()\n",
    "    server.sendmail(from_email, to_email, text)\n",
    "    print(f\"Email sent to {to_email}\")\n",
    "    time.sleep(0.3)\n",
    "\n",
    "def sending(emails,text):    \n",
    "    for i in emails:\n",
    "        send_email(str(i),text, attachment_path=\"C:/Users/hp/Downloads/Vaibhav_Wadhwa.pdf\") \n"
   ]
  },
  {
   "cell_type": "code",
   "execution_count": 6,
   "metadata": {},
   "outputs": [],
   "source": [
    "def main():\n",
    "    # Get the input from the user\n",
    "    linkedin_post_url = input(\"Enter the LinkedIn post URL: \")\n",
    "    text, emails = extract_text_and_emails_from_linkedin(linkedin_post_url)\n",
    "    print(\"Extracted Email:\\n\", emails)\n",
    "    sending(emails,text)\n",
    "    print(\"Emails sent successfully\")"
   ]
  },
  {
   "cell_type": "code",
   "execution_count": 7,
   "metadata": {},
   "outputs": [
    {
     "name": "stdout",
     "output_type": "stream",
     "text": [
      "Extracted Email:\n",
      " ['sneha.mishra@bluestone.com', 'hr@techgeekconnect.com', 'placements@satyawati.du.ac.in', 'placements@iitjammu.ac.in']\n",
      "Email sent to sneha.mishra@bluestone.com\n",
      "Email sent to hr@techgeekconnect.com\n"
     ]
    },
    {
     "ename": "",
     "evalue": "",
     "output_type": "error",
     "traceback": [
      "\u001b[1;31mCannot execute code, session has been disposed. Please try restarting the Kernel."
     ]
    },
    {
     "ename": "",
     "evalue": "",
     "output_type": "error",
     "traceback": [
      "\u001b[1;31mCannot execute code, session has been disposed. Please try restarting the Kernel. \n",
      "\u001b[1;31mView Jupyter <a href='command:jupyter.viewOutput'>log</a> for further details."
     ]
    }
   ],
   "source": [
    "main()"
   ]
  },
  {
   "cell_type": "code",
   "execution_count": 8,
   "metadata": {},
   "outputs": [
    {
     "name": "stdout",
     "output_type": "stream",
     "text": [
      "1. dreambiginc.com\n",
      "2. visionhub.net\n",
      "3. innovatepro.com\n",
      "4. futuretech.co\n",
      "5. nextgenbiz.io\n",
      "6. prosperbiz.com\n",
      "7. growingsuccess.net\n",
      "8. newwaveenterprises.com\n",
      "9. pioneerzone.co\n",
      "10. leadtheway.bizNone\n"
     ]
    }
   ],
   "source": [
    "#domain name based on business needs and vision\n",
    "\n",
    "'''s1- groq-> business need and vision give name suggessions\n",
    "s2-> checking availability of those names\n",
    "\n",
    "domain name .com\n",
    "''' \n",
    "\n",
    "def domaingen(bneed,vision):\n",
    "    f=''\n",
    "    op = client.chat.completions.create(\n",
    "        model=\"llama-3.3-70b-versatile\",\n",
    "        messages=[\n",
    "        {\n",
    "            \"role\": \"user\",\n",
    "            \"content\": f\" I am starting a business of {bneed},and our vision is to {vision} suggest me some domain names NO PREAMBLE and in list format\"\n",
    "        }],\n",
    "        temperature=1.1,\n",
    "        max_completion_tokens=730,\n",
    "        top_p=1,\n",
    "        stream=True,\n",
    "        stop=None\n",
    "    )\n",
    "    for chunk in op:\n",
    "        f+=f'{chunk.choices[0].delta.content}'\n",
    "        \n",
    "    return f\n",
    "\n",
    "s=domaingen(input(\"business need\"),input(\"your vision for comapny\"))\n",
    "print(s)\n"
   ]
  },
  {
   "cell_type": "code",
   "execution_count": 9,
   "metadata": {},
   "outputs": [
    {
     "ename": "SyntaxError",
     "evalue": "invalid syntax (2988904140.py, line 16)",
     "output_type": "error",
     "traceback": [
      "\u001b[1;36m  Cell \u001b[1;32mIn[9], line 16\u001b[1;36m\u001b[0m\n\u001b[1;33m    s=\u001b[0m\n\u001b[1;37m      ^\u001b[0m\n\u001b[1;31mSyntaxError\u001b[0m\u001b[1;31m:\u001b[0m invalid syntax\n"
     ]
    }
   ],
   "source": [
    "# s='''1. aichatbot.net\n",
    "# 2. chatbotai.io\n",
    "# 3. botify.ai\n",
    "# 4. talktoaibot.com\n",
    "# 5. aiconverse.ai\n",
    "# 6. chatbotpro.io\n",
    "# 7. aibotstore.com\n",
    "# 8. intelligentspeak.ai\n",
    "# 9. aichatzone.com\n",
    "# 10. botmind.ai\n",
    "# 11. aiconnect.io\n",
    "# 12. smartchatbot.net\n",
    "# 13. aibotspace.com\n",
    "# 14. conversationai.io\n",
    "# 15. aibotfactory.com'''\n",
    "s=\n",
    "\n",
    "siteformat=r'[a-zA-Z0-9.-]+\\.[a-zA-Z]{2,}'\n",
    "sites = re.findall(siteformat,s)\n",
    "\n",
    "print(sites)"
   ]
  },
  {
   "cell_type": "code",
   "execution_count": 10,
   "metadata": {},
   "outputs": [
    {
     "data": {
      "text/plain": [
       "True"
      ]
     },
     "execution_count": 10,
     "metadata": {},
     "output_type": "execute_result"
    }
   ],
   "source": [
    "import requests\n",
    "\n",
    "def checking_sites(site):\n",
    "    headers = {\n",
    "        \"User-Agent\": \"Mozilla/5.0 (Windows NT 10.0; Win64; x64) AppleWebKit/537.36 (KHTML, like Gecko) Chrome/91.0.4472.124 Safari/537.36\"\n",
    "    }\n",
    "    try:\n",
    "        response = requests.get(site, headers=headers)\n",
    "        if response.status_code != 200:\n",
    "            return False\n",
    "        else:\n",
    "            return True\n",
    "    except:\n",
    "        return False\n",
    "\n",
    "    \n",
    "checking_sites('https://google.com')"
   ]
  },
  {
   "cell_type": "code",
   "execution_count": 11,
   "metadata": {},
   "outputs": [
    {
     "name": "stdout",
     "output_type": "stream",
     "text": [
      "['BrainyStartups.com', 'InnovativeIdeas.net', 'NewBizZone.co', 'StartupSphere.io', 'CreativeVentures.org', 'FutureFounders.com', 'BusinessBoosters.co', 'EntrepreneurHub.net', 'NovelNotions.io', 'PioneeringSolutions.comNone']\n",
      "BrainyStartups.com True\n",
      "InnovativeIdeas.net False\n",
      "NewBizZone.co False\n",
      "StartupSphere.io False\n",
      "CreativeVentures.org True\n",
      "FutureFounders.com False\n",
      "BusinessBoosters.co True\n",
      "EntrepreneurHub.net True\n",
      "NovelNotions.io False\n",
      "PioneeringSolutions.comNone False\n"
     ]
    }
   ],
   "source": [
    "\n",
    "    \n",
    "def main():\n",
    "    s=domaingen(input(\"business need\"),input(\"your vision for comapny\"))\n",
    "    siteformat=r'[a-zA-Z0-9.-]+\\.[a-zA-Z]{2,}'\n",
    "    sites = re.findall(siteformat,s)\n",
    "    print(sites)\n",
    "    for site in sites:\n",
    "        print(site,checking_sites(f'https://{site}'))\n",
    "main()\n"
   ]
  }
 ],
 "metadata": {
  "kernelspec": {
   "display_name": "base",
   "language": "python",
   "name": "python3"
  },
  "language_info": {
   "codemirror_mode": {
    "name": "ipython",
    "version": 3
   },
   "file_extension": ".py",
   "mimetype": "text/x-python",
   "name": "python",
   "nbconvert_exporter": "python",
   "pygments_lexer": "ipython3",
   "version": "3.12.7"
  }
 },
 "nbformat": 4,
 "nbformat_minor": 2
}
